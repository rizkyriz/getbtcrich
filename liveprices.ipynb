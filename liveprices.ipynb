{
 "cells": [
  {
   "cell_type": "code",
   "execution_count": 6,
   "metadata": {},
   "outputs": [
    {
     "name": "stdout",
     "output_type": "stream",
     "text": [
      "Bitstamp Price in USD = 6351.875\n",
      "6350.76 6352.99\n",
      "Coinbase Price in USD = 6455.74\n",
      "Kraken Price in USD = 6349.9\n",
      "Bitfinex Price in USD = 6348.76489909\n",
      "difference betweeen coinbase and bitstamp 103.86499999999978\n",
      "Bitstamp Price in USD = 6351.83\n",
      "6350.67 6352.99\n",
      "Coinbase Price in USD = 6455.74\n",
      "Kraken Price in USD = 6349.9\n",
      "Bitfinex Price in USD = 6348.76489909\n",
      "difference betweeen coinbase and bitstamp 103.90999999999985\n",
      "Bitstamp Price in USD = 6351.83\n",
      "6350.67 6352.99\n",
      "Coinbase Price in USD = 6455.74\n",
      "Kraken Price in USD = 6349.9\n",
      "Bitfinex Price in USD = 6348.76489909\n",
      "difference betweeen coinbase and bitstamp 103.90999999999985\n",
      "Bitstamp Price in USD = 6351.83\n",
      "6350.68 6352.98\n",
      "Coinbase Price in USD = 6455.74\n",
      "Kraken Price in USD = 6350.0\n",
      "Bitfinex Price in USD = 6348.76489909\n",
      "difference betweeen coinbase and bitstamp 103.90999999999985\n"
     ]
    },
    {
     "ename": "KeyboardInterrupt",
     "evalue": "",
     "output_type": "error",
     "traceback": [
      "\u001b[1;31m---------------------------------------------------------------------------\u001b[0m",
      "\u001b[1;31mKeyboardInterrupt\u001b[0m                         Traceback (most recent call last)",
      "\u001b[1;32m<ipython-input-6-b564af755960>\u001b[0m in \u001b[0;36m<module>\u001b[1;34m()\u001b[0m\n\u001b[0;32m     57\u001b[0m     \u001b[0mprint\u001b[0m\u001b[1;33m(\u001b[0m\u001b[1;34m\"Bitfinex Price in USD =\"\u001b[0m\u001b[1;33m,\u001b[0m \u001b[0mbitfinexUSDLive\u001b[0m\u001b[1;33m)\u001b[0m\u001b[1;33m\u001b[0m\u001b[0m\n\u001b[0;32m     58\u001b[0m     \u001b[0mprint\u001b[0m\u001b[1;33m(\u001b[0m\u001b[1;34m\"difference betweeen coinbase and bitstamp\"\u001b[0m\u001b[1;33m,\u001b[0m \u001b[1;33m(\u001b[0m\u001b[0mcoinbUSDLive\u001b[0m \u001b[1;33m-\u001b[0m \u001b[0mbtstampUSDLive\u001b[0m\u001b[1;33m)\u001b[0m\u001b[1;33m)\u001b[0m\u001b[1;33m\u001b[0m\u001b[0m\n\u001b[1;32m---> 59\u001b[1;33m     \u001b[0mtime\u001b[0m\u001b[1;33m.\u001b[0m\u001b[0msleep\u001b[0m\u001b[1;33m(\u001b[0m\u001b[1;36m2\u001b[0m\u001b[1;33m)\u001b[0m \u001b[1;31m# 120 equals two minutes, you can ping it every second by putting a 1 in here\u001b[0m\u001b[1;33m\u001b[0m\u001b[0m\n\u001b[0m\u001b[0;32m     60\u001b[0m \u001b[1;33m\u001b[0m\u001b[0m\n\u001b[0;32m     61\u001b[0m \u001b[1;33m\u001b[0m\u001b[0m\n",
      "\u001b[1;31mKeyboardInterrupt\u001b[0m: "
     ]
    }
   ],
   "source": [
    "import time, json, requests\n",
    "\"\"\"\n",
    "Some api pages\n",
    "https://bitpay.com/bitcoin-payment-gateway-api\n",
    "https://blockchain.info/api\n",
    "https://localbitcoins.com/api-docs/public/\n",
    "https://www.bitstamp.net/api/\n",
    "https://coinbase.com/docs/api/overview\n",
    "https://coinbase.com/api/doc/1.0/prices/buy.html\n",
    "https://coinbase.com/api/v1/prices/spot_rate\n",
    "https://www.kraken.com/help/api\n",
    "https://www.bitfinex.com/pages/api\n",
    "https://www.cryptsy.com/pages/api\n",
    "http://bitcoincharts.com/about/markets-api/\n",
    "https://www.bitfinex.com/pages/api\n",
    "\"\"\"\n",
    "\n",
    "def btstamp():\n",
    "    bitStampTick = requests.get('https://www.bitstamp.net/api/ticker/').json()\n",
    "    return float(bitStampTick['bid']), float(bitStampTick['ask'])\n",
    "\n",
    "#def btceBU():\n",
    "    #btceBtcTick = requests.get('https://btc-e.com/api/2/btc_usd/ticker')\n",
    "    #return btceBtcTick.json()['ticker']['last'] # replace last with updated etc\n",
    "\n",
    "#def btceBL():\n",
    "    #btceLtcTick = requests.get('https://btc-e.com/api/2/ltc_btc/ticker')\n",
    "    #return btceLtcTick.json()['ticker']['last'] # replace last with updated etc\n",
    "\n",
    "def bitfinex(): \n",
    "    bitFinexTick = requests.get(\"https://api.bitfinex.com/v1/ticker/btcusd\")\n",
    "    return bitFinexTick.json()['last_price']\n",
    "\n",
    "def coinbase():\n",
    "    coinBaseTick = requests.get('https://coinbase.com/api/v1/prices/buy') # replace buy with spot_rate, sell etc\n",
    "    return coinBaseTick.json()['amount'] # replace amount with currency etc\n",
    "\n",
    "def kraken():\n",
    "    krakenTick = requests.post('https://api.kraken.com/0/public/Ticker',data=json.dumps({\"pair\":\"XXBTZUSD\"}),\n",
    "        headers={\"content-type\":\"application/json\"})\n",
    "    return krakenTick.json()['result']['XXBTZUSD']['c'][0]\n",
    "\n",
    "while True:\n",
    "    btstampUSDLive_bid, btstampUSDLive_ask = btstamp()\n",
    "    btstampUSDLive = (btstampUSDLive_bid + btstampUSDLive_ask) * 0.5\n",
    "    #btceUSDLive = float(btceBU())\n",
    "    #btceLTCinBTCLive = float(btceBL())\n",
    "    coinbUSDLive = float(coinbase())\n",
    "    krakenUSDLive = float(kraken())\n",
    "    bitfinexUSDLive = float(bitfinex())\n",
    "\n",
    "    print(\"Bitstamp Price in USD =\", btstampUSDLive)\n",
    "    print(btstampUSDLive_bid, btstampUSDLive_ask)\n",
    "    #print(\"BTC-e Price in USD =\", btceUSDLive)\n",
    "    print(\"Coinbase Price in USD =\", coinbUSDLive)\n",
    "    print(\"Kraken Price in USD =\", krakenUSDLive)\n",
    "    print(\"Bitfinex Price in USD =\", bitfinexUSDLive)\n",
    "    print(\"difference betweeen coinbase and bitstamp\", (coinbUSDLive - btstampUSDLive))\n",
    "    time.sleep(2) # 120 equals two minutes, you can ping it every second by putting a 1 in here\n",
    "          \n",
    "          \n",
    "          "
   ]
  },
  {
   "cell_type": "code",
   "execution_count": null,
   "metadata": {},
   "outputs": [],
   "source": []
  }
 ],
 "metadata": {
  "kernelspec": {
   "display_name": "Python 3",
   "language": "python",
   "name": "python3"
  },
  "language_info": {
   "codemirror_mode": {
    "name": "ipython",
    "version": 3
   },
   "file_extension": ".py",
   "mimetype": "text/x-python",
   "name": "python",
   "nbconvert_exporter": "python",
   "pygments_lexer": "ipython3",
   "version": "3.4.3"
  }
 },
 "nbformat": 4,
 "nbformat_minor": 2
}
