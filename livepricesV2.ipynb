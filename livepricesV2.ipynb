{
 "cells": [
  {
   "cell_type": "code",
   "execution_count": 5,
   "metadata": {},
   "outputs": [
    {
     "name": "stdout",
     "output_type": "stream",
     "text": [
      "bitstampUSD_bid 6312.02 bitstampUSD_ask 6313.23\n",
      "bitfinexUSD_bid 6314.0 bitfinexUSD_ask 6314.1\n",
      "buystampsellfinexpnl 0.7700000000004366\n",
      "sellstampbuyfinex -2.0799999999999272\n",
      "ARBITRAGE!!! - BUY STAMP SELL FINEX\n",
      "bitstampUSD_bid 6313.0 bitstampUSD_ask 6313.23\n",
      "bitfinexUSD_bid 6314.0 bitfinexUSD_ask 6314.1\n",
      "buystampsellfinexpnl 0.7700000000004366\n",
      "sellstampbuyfinex -1.1000000000003638\n",
      "ARBITRAGE!!! - BUY STAMP SELL FINEX\n",
      "bitstampUSD_bid 6313.0 bitstampUSD_ask 6313.23\n",
      "bitfinexUSD_bid 6314.0 bitfinexUSD_ask 6314.1\n",
      "buystampsellfinexpnl 0.7700000000004366\n",
      "sellstampbuyfinex -1.1000000000003638\n",
      "ARBITRAGE!!! - BUY STAMP SELL FINEX\n",
      "bitstampUSD_bid 6312.02 bitstampUSD_ask 6312.04\n",
      "bitfinexUSD_bid 6314.0 bitfinexUSD_ask 6314.1\n",
      "buystampsellfinexpnl 1.9600000000000364\n",
      "sellstampbuyfinex -2.0799999999999272\n",
      "ARBITRAGE!!! - BUY STAMP SELL FINEX\n",
      "bitstampUSD_bid 6312.02 bitstampUSD_ask 6312.04\n",
      "bitfinexUSD_bid 6314.0 bitfinexUSD_ask 6314.1\n",
      "buystampsellfinexpnl 1.9600000000000364\n",
      "sellstampbuyfinex -2.0799999999999272\n",
      "ARBITRAGE!!! - BUY STAMP SELL FINEX\n",
      "bitstampUSD_bid 6312.02 bitstampUSD_ask 6312.04\n",
      "bitfinexUSD_bid 6314.0 bitfinexUSD_ask 6314.1\n",
      "buystampsellfinexpnl 1.9600000000000364\n",
      "sellstampbuyfinex -2.0799999999999272\n",
      "ARBITRAGE!!! - BUY STAMP SELL FINEX\n"
     ]
    },
    {
     "ename": "KeyboardInterrupt",
     "evalue": "",
     "output_type": "error",
     "traceback": [
      "\u001b[1;31m---------------------------------------------------------------------------\u001b[0m",
      "\u001b[1;31mKeyboardInterrupt\u001b[0m                         Traceback (most recent call last)",
      "\u001b[1;32m<ipython-input-5-f05dde279bdc>\u001b[0m in \u001b[0;36m<module>\u001b[1;34m()\u001b[0m\n\u001b[0;32m     39\u001b[0m         \u001b[0mprint\u001b[0m\u001b[1;33m(\u001b[0m\u001b[1;34m\"ARBITRAGE!!! - SELL STAMP BUY FINEX\"\u001b[0m\u001b[1;33m)\u001b[0m\u001b[1;33m\u001b[0m\u001b[0m\n\u001b[0;32m     40\u001b[0m \u001b[1;33m\u001b[0m\u001b[0m\n\u001b[1;32m---> 41\u001b[1;33m     \u001b[0mtime\u001b[0m\u001b[1;33m.\u001b[0m\u001b[0msleep\u001b[0m\u001b[1;33m(\u001b[0m\u001b[1;36m2\u001b[0m\u001b[1;33m)\u001b[0m \u001b[1;31m#time is in seconds\u001b[0m\u001b[1;33m\u001b[0m\u001b[0m\n\u001b[0m\u001b[0;32m     42\u001b[0m \u001b[1;33m\u001b[0m\u001b[0m\n\u001b[0;32m     43\u001b[0m \u001b[1;33m\u001b[0m\u001b[0m\n",
      "\u001b[1;31mKeyboardInterrupt\u001b[0m: "
     ]
    }
   ],
   "source": [
    "import time, json, requests\n",
    "\"\"\"\n",
    "API URLs\n",
    "https://www.bitstamp.net/api/\n",
    "https://www.bitfinex.com/pages/api\n",
    "\"\"\"\n",
    "\n",
    "def bitstamp():\n",
    "    bitstamptick = requests.get('https://www.bitstamp.net/api/ticker/').json()\n",
    "    return float(bitstamptick['bid']), float(bitstamptick['ask'])\n",
    "\n",
    "def bitfinex(): \n",
    "    bitfinextick = requests.get(\"https://api.bitfinex.com/v1/ticker/btcusd\").json()\n",
    "    return float(bitfinextick['bid']), float(bitfinextick['ask'])\n",
    "\n",
    "\n",
    "#While true will run the while statement forever until manually stopped\n",
    "while True:\n",
    "\n",
    "#Define the bid/ask varilables for each exchange\n",
    "    bitstampUSDlive_bid, bitstampUSDlive_ask = bitstamp()\n",
    "    bitfinexUSDlive_bid, bitfinexUSDlive_ask = bitfinex()\n",
    "\n",
    "#Define variables that calculuate the ask-bid differences on each exchange\n",
    "    buystampsellfinex = -bitstampUSDlive_ask + bitfinexUSDlive_bid\n",
    "    sellstampbuyfinex = bitstampUSDlive_bid - bitfinexUSDlive_ask\n",
    "    \n",
    "    print(\"bitstampUSD_bid\", bitstampUSDlive_bid, \"bitstampUSD_ask\", bitstampUSDlive_ask)\n",
    "    print(\"bitfinexUSD_bid\", bitfinexUSDlive_bid, \"bitfinexUSD_ask\", bitfinexUSDlive_ask)\n",
    "   \n",
    "    print(\"buystampsellfinexpnl\",buystampsellfinex)\n",
    "    print(\"sellstampbuyfinex\",sellstampbuyfinex)\n",
    "    \n",
    "#Show text if arbitrage exists\n",
    "    if buystampsellfinex > 0:\n",
    "        print(\"ARBITRAGE!!! - BUY STAMP SELL FINEX\")\n",
    "        \n",
    "    if sellstampbuyfinex > 0:\n",
    "        print(\"ARBITRAGE!!! - SELL STAMP BUY FINEX\")\n",
    "\n",
    "#Run every X seconds\n",
    "    time.sleep(2) #time is in seconds \n",
    "          \n",
    "          \n",
    "          "
   ]
  },
  {
   "cell_type": "code",
   "execution_count": 8,
   "metadata": {},
   "outputs": [],
   "source": [
    "def test(i):\n",
    "    j = i + 1\n",
    "    return j"
   ]
  },
  {
   "cell_type": "code",
   "execution_count": 9,
   "metadata": {},
   "outputs": [
    {
     "data": {
      "text/plain": [
       "3"
      ]
     },
     "execution_count": 9,
     "metadata": {},
     "output_type": "execute_result"
    }
   ],
   "source": [
    "test(2)"
   ]
  },
  {
   "cell_type": "code",
   "execution_count": 7,
   "metadata": {},
   "outputs": [
    {
     "name": "stdout",
     "output_type": "stream",
     "text": [
      "<Response [200]>\n"
     ]
    }
   ],
   "source": [
    "print(requests.get('https://www.bitstamp.net/api/ticker/'))"
   ]
  }
 ],
 "metadata": {
  "kernelspec": {
   "display_name": "Python 3",
   "language": "python",
   "name": "python3"
  },
  "language_info": {
   "codemirror_mode": {
    "name": "ipython",
    "version": 3
   },
   "file_extension": ".py",
   "mimetype": "text/x-python",
   "name": "python",
   "nbconvert_exporter": "python",
   "pygments_lexer": "ipython3",
   "version": "3.4.3"
  }
 },
 "nbformat": 4,
 "nbformat_minor": 2
}
