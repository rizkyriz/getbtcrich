{
 "cells": [
  {
   "cell_type": "code",
   "execution_count": 1,
   "metadata": {
    "scrolled": true
   },
   "outputs": [
    {
     "name": "stdout",
     "output_type": "stream",
     "text": [
      "bitstampUSD_bid 5967.5 bitstampUSD_ask 5970.02\n",
      "bitfinexUSD_bid 5965.0 bitfinexUSD_ask 5965.1\n",
      "buystampsellfinexpnl -5.020000000000437\n",
      "sellstampbuyfinexpnl 2.399999999999636\n",
      "ARBITRAGE RIZ!!! SELL STAMP BUY FINEX\n",
      "bitstampUSD_bid 5967.52 bitstampUSD_ask 5970.02\n",
      "bitfinexUSD_bid 5965.0 bitfinexUSD_ask 5965.1\n",
      "buystampsellfinexpnl -5.020000000000437\n",
      "sellstampbuyfinexpnl 2.4200000000000728\n",
      "ARBITRAGE RIZ!!! SELL STAMP BUY FINEX\n",
      "bitstampUSD_bid 5967.52 bitstampUSD_ask 5970.02\n",
      "bitfinexUSD_bid 5965.0 bitfinexUSD_ask 5965.1\n",
      "buystampsellfinexpnl -5.020000000000437\n",
      "sellstampbuyfinexpnl 2.4200000000000728\n",
      "ARBITRAGE RIZ!!! SELL STAMP BUY FINEX\n",
      "bitstampUSD_bid 5967.52 bitstampUSD_ask 5970.02\n",
      "bitfinexUSD_bid 5965.0 bitfinexUSD_ask 5965.1\n",
      "buystampsellfinexpnl -5.020000000000437\n",
      "sellstampbuyfinexpnl 2.4200000000000728\n",
      "ARBITRAGE RIZ!!! SELL STAMP BUY FINEX\n",
      "bitstampUSD_bid 5967.52 bitstampUSD_ask 5970.02\n",
      "bitfinexUSD_bid 5965.0 bitfinexUSD_ask 5965.1\n",
      "buystampsellfinexpnl -5.020000000000437\n",
      "sellstampbuyfinexpnl 2.4200000000000728\n",
      "ARBITRAGE RIZ!!! SELL STAMP BUY FINEX\n",
      "bitstampUSD_bid 5967.54 bitstampUSD_ask 5970.02\n",
      "bitfinexUSD_bid 5965.0 bitfinexUSD_ask 5965.1\n",
      "buystampsellfinexpnl -5.020000000000437\n",
      "sellstampbuyfinexpnl 2.4399999999996\n",
      "ARBITRAGE RIZ!!! SELL STAMP BUY FINEX\n",
      "bitstampUSD_bid 5967.56 bitstampUSD_ask 5970.02\n",
      "bitfinexUSD_bid 5965.0 bitfinexUSD_ask 5965.1\n",
      "buystampsellfinexpnl -5.020000000000437\n",
      "sellstampbuyfinexpnl 2.4600000000000364\n",
      "ARBITRAGE RIZ!!! SELL STAMP BUY FINEX\n",
      "bitstampUSD_bid 5967.56 bitstampUSD_ask 5970.34\n",
      "bitfinexUSD_bid 5965.0 bitfinexUSD_ask 5965.1\n",
      "buystampsellfinexpnl -5.3400000000001455\n",
      "sellstampbuyfinexpnl 2.4600000000000364\n",
      "ARBITRAGE RIZ!!! SELL STAMP BUY FINEX\n",
      "bitstampUSD_bid 5967.56 bitstampUSD_ask 5970.34\n",
      "bitfinexUSD_bid 5965.0 bitfinexUSD_ask 5965.1\n",
      "buystampsellfinexpnl -5.3400000000001455\n",
      "sellstampbuyfinexpnl 2.4600000000000364\n",
      "ARBITRAGE RIZ!!! SELL STAMP BUY FINEX\n"
     ]
    },
    {
     "ename": "KeyboardInterrupt",
     "evalue": "",
     "output_type": "error",
     "traceback": [
      "\u001b[1;31m---------------------------------------------------------------------------\u001b[0m",
      "\u001b[1;31mKeyboardInterrupt\u001b[0m                         Traceback (most recent call last)",
      "\u001b[1;32m<ipython-input-1-e989a636cf64>\u001b[0m in \u001b[0;36m<module>\u001b[1;34m()\u001b[0m\n\u001b[0;32m     40\u001b[0m \u001b[1;33m\u001b[0m\u001b[0m\n\u001b[0;32m     41\u001b[0m \u001b[1;31m#Run every X seconds\u001b[0m\u001b[1;33m\u001b[0m\u001b[1;33m\u001b[0m\u001b[0m\n\u001b[1;32m---> 42\u001b[1;33m     \u001b[0mtime\u001b[0m\u001b[1;33m.\u001b[0m\u001b[0msleep\u001b[0m\u001b[1;33m(\u001b[0m\u001b[1;36m2\u001b[0m\u001b[1;33m)\u001b[0m \u001b[1;31m#time is in seconds\u001b[0m\u001b[1;33m\u001b[0m\u001b[0m\n\u001b[0m\u001b[0;32m     43\u001b[0m \u001b[1;33m\u001b[0m\u001b[0m\n",
      "\u001b[1;31mKeyboardInterrupt\u001b[0m: "
     ]
    }
   ],
   "source": [
    "import time, json, requests\n",
    "\"\"\"\n",
    "API URLs\n",
    "https://www.bitstamp.net/api/\n",
    "https://www.bitfinex.com/pages/api\n",
    "\"\"\"\n",
    "#define the function which is requesting the API data in JSON\n",
    "#return the bid and ask data from the API call as numbers 'float'\n",
    "def bitstamp():\n",
    "    bitstamptick = requests.get('https://www.bitstamp.net/api/ticker/').json()\n",
    "    return float(bitstamptick['bid']), float(bitstamptick['ask'])\n",
    "\n",
    "def bitfinex(): \n",
    "    bitfinextick = requests.get(\"https://api.bitfinex.com/v1/ticker/btcusd\").json()\n",
    "    return float(bitfinextick['bid']), float(bitfinextick['ask'])\n",
    "\n",
    "#While true will run the while statement forever until manually stopped\n",
    "while True:\n",
    "\n",
    "#Define the bid/ask varilables for each exchange\n",
    "    bitstampUSDlive_bid, bitstampUSDlive_ask = bitstamp()\n",
    "    bitfinexUSDlive_bid, bitfinexUSDlive_ask = bitfinex()\n",
    "\n",
    "#Define variables that calculuate the cash ask-bid arbitrage differences on each exchange\n",
    "    buystampsellfinex = -bitstampUSDlive_ask + bitfinexUSDlive_bid\n",
    "    sellstampbuyfinex = bitstampUSDlive_bid - bitfinexUSDlive_ask\n",
    "    \n",
    "    print(\"bitstampUSD_bid\", bitstampUSDlive_bid, \"bitstampUSD_ask\", bitstampUSDlive_ask)\n",
    "    print(\"bitfinexUSD_bid\", bitfinexUSDlive_bid, \"bitfinexUSD_ask\", bitfinexUSDlive_ask)\n",
    "   \n",
    "    print(\"buystampsellfinexpnl\",buystampsellfinex)\n",
    "    print(\"sellstampbuyfinexpnl\",sellstampbuyfinex)\n",
    "    \n",
    "#Show text if arbitrage exists\n",
    "    if buystampsellfinex > 0:\n",
    "        print(\"ARBITRAGE RIZ!!! BUY STAMP SELL FINEX\")\n",
    "        \n",
    "    if sellstampbuyfinex > 0:\n",
    "        print(\"ARBITRAGE RIZ!!! SELL STAMP BUY FINEX\")\n",
    "\n",
    "#Run every X seconds\n",
    "    time.sleep(2) #time is in seconds \n",
    "          \n",
    "        "
   ]
  },
  {
   "cell_type": "code",
   "execution_count": 23,
   "metadata": {},
   "outputs": [
    {
     "name": "stdout",
     "output_type": "stream",
     "text": [
      "b'1534239881'\n",
      "b'15342398814804547bacNkqLglGjWyUfI7UbzCJDlsoCXduH'\n",
      "E34169F20A800BCA45E9A7B9673281C12509440F6B8BBE58F4673B1278024897\n"
     ]
    }
   ],
   "source": [
    "#Authenticate Bitstamp in order to do private API calls\n",
    "#Click in left hand panel and press \"l\" on the keyboard to show row lines\n",
    "\n",
    "import hmac\n",
    "import hashlib \n",
    "import time\n",
    "\n",
    "#Define variables for API Signature \n",
    "#Define nonce as UNIX time, in seconds as an integer \n",
    "#Define each variable as a bytestring 'b'\n",
    "nonce = str(int(time.time())).encode()\n",
    "customer_id = b'480454'\n",
    "api_key = b'7bacNkqLglGjWyUfI7UbzCJDlsoCXduH'\n",
    "API_SECRET = b'TnxeZFgzxp8us9JJFx2XKdQXMCDn66kC'\n",
    "\n",
    "#message is a concatenation of the 3 variables \n",
    "message = nonce + customer_id + api_key\n",
    "\n",
    "#Define Bitstamp signature \n",
    "#Bitstamp API signature description: https://www.bitstamp.net/api/\n",
    "signature = hmac.new(\n",
    "    API_SECRET,\n",
    "    msg=message,\n",
    "    digestmod=hashlib.sha256\n",
    ").hexdigest().upper()\n",
    "\n",
    "print (nonce)\n",
    "print (message)\n",
    "print (signature)\n",
    "\n"
   ]
  },
  {
   "cell_type": "code",
   "execution_count": 19,
   "metadata": {},
   "outputs": [],
   "source": [
    "test = 'hello ake'"
   ]
  },
  {
   "cell_type": "code",
   "execution_count": 17,
   "metadata": {},
   "outputs": [
    {
     "ename": "SyntaxError",
     "evalue": "bytes can only contain ASCII literal characters. (<ipython-input-17-b63c88b0176e>, line 1)",
     "output_type": "error",
     "traceback": [
      "\u001b[1;36m  File \u001b[1;32m\"<ipython-input-17-b63c88b0176e>\"\u001b[1;36m, line \u001b[1;32m1\u001b[0m\n\u001b[1;33m    test2 = b'hello åke'\u001b[0m\n\u001b[1;37m           ^\u001b[0m\n\u001b[1;31mSyntaxError\u001b[0m\u001b[1;31m:\u001b[0m bytes can only contain ASCII literal characters.\n"
     ]
    }
   ],
   "source": [
    "test2 = b'hello åke'"
   ]
  },
  {
   "cell_type": "code",
   "execution_count": 12,
   "metadata": {},
   "outputs": [
    {
     "data": {
      "text/plain": [
       "str"
      ]
     },
     "execution_count": 12,
     "metadata": {},
     "output_type": "execute_result"
    }
   ],
   "source": [
    "type(test)"
   ]
  },
  {
   "cell_type": "code",
   "execution_count": 14,
   "metadata": {},
   "outputs": [
    {
     "data": {
      "text/plain": [
       "bytes"
      ]
     },
     "execution_count": 14,
     "metadata": {},
     "output_type": "execute_result"
    }
   ],
   "source": [
    "type(test2)"
   ]
  },
  {
   "cell_type": "code",
   "execution_count": 16,
   "metadata": {},
   "outputs": [
    {
     "data": {
      "text/plain": [
       "'hello åke'"
      ]
     },
     "execution_count": 16,
     "metadata": {},
     "output_type": "execute_result"
    }
   ],
   "source": [
    "test"
   ]
  },
  {
   "cell_type": "code",
   "execution_count": 20,
   "metadata": {},
   "outputs": [
    {
     "data": {
      "text/plain": [
       "'hello ake'"
      ]
     },
     "execution_count": 20,
     "metadata": {},
     "output_type": "execute_result"
    }
   ],
   "source": [
    "test"
   ]
  },
  {
   "cell_type": "code",
   "execution_count": 21,
   "metadata": {},
   "outputs": [
    {
     "data": {
      "text/plain": [
       "b'hello ake'"
      ]
     },
     "execution_count": 21,
     "metadata": {},
     "output_type": "execute_result"
    }
   ],
   "source": [
    "test.encode()"
   ]
  },
  {
   "cell_type": "code",
   "execution_count": null,
   "metadata": {},
   "outputs": [],
   "source": []
  }
 ],
 "metadata": {
  "kernelspec": {
   "display_name": "Python 3",
   "language": "python",
   "name": "python3"
  },
  "language_info": {
   "codemirror_mode": {
    "name": "ipython",
    "version": 3
   },
   "file_extension": ".py",
   "mimetype": "text/x-python",
   "name": "python",
   "nbconvert_exporter": "python",
   "pygments_lexer": "ipython3",
   "version": "3.4.3"
  }
 },
 "nbformat": 4,
 "nbformat_minor": 2
}
